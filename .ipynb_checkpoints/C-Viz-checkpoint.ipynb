{
 "cells": [
  {
   "cell_type": "markdown",
   "metadata": {},
   "source": [
    "### Change in Data?\n",
    "To change your file, just modify the json_file variable in the python code below"
   ]
  },
  {
   "cell_type": "code",
   "execution_count": null,
   "metadata": {
    "collapsed": false
   },
   "outputs": [],
   "source": [
    "json_file = \"50x15.json\"\n",
    "\n",
    "%matplotlib inline\n",
    "import matplotlib.pyplot as plt\n",
    "import numpy as np\n",
    "\n",
    "fig, ax = plt.subplots()\n",
    "np.random.seed(0)\n",
    "x, y = np.random.normal(size=(2, 200))\n",
    "color, size = np.random.random((2, 200))\n",
    "\n",
    "ax.scatter(x, y, c=color, s=500 * size, alpha=0.3)\n",
    "ax.grid(color='lightgray', alpha=0.7)\n",
    "\n",
    "import mpld3\n",
    "mpld3.display(fig)"
   ]
  },
  {
   "cell_type": "code",
   "execution_count": 2,
   "metadata": {
    "collapsed": false
   },
   "outputs": [
    {
     "name": "stderr",
     "output_type": "stream",
     "text": [
      "/Users/daniel/miniconda3/lib/python3.5/json/encoder.py:198: DeprecationWarning: Interpreting naive datetime as local 2017-05-02 15:52:46.121533. Please add timezone info to timestamps.\n",
      "  chunks = self.iterencode(o, _one_shot=True)\n"
     ]
    }
   ],
   "source": [
    "import json\n",
    "import sys\n",
    "from pprint import pprint\n",
    "\n",
    "import pylab\n",
    "# pylab.rcParams['figure.figsize'] = (5.0, 4.0)\n",
    "\n",
    "import matplotlib\n",
    "# matplotlib.use('qt5agg')\n",
    "import matplotlib.pyplot as plt\n",
    "import matplotlib.cm as cm\n",
    "import numpy as np\n",
    "import mpld3\n",
    "from mpld3 import plugins, utils\n",
    "mpld3.enable_notebook()"
   ]
  },
  {
   "cell_type": "code",
   "execution_count": 3,
   "metadata": {
    "collapsed": false
   },
   "outputs": [
    {
     "name": "stderr",
     "output_type": "stream",
     "text": [
      "/Users/daniel/miniconda3/lib/python3.5/site-packages/jupyter_client/jsonutil.py:67: DeprecationWarning: Interpreting naive datetime as local 2017-05-02 15:52:51.599051. Please add timezone info to timestamps.\n",
      "  new_obj[k] = extract_dates(v)\n",
      "/Users/daniel/miniconda3/lib/python3.5/json/encoder.py:198: DeprecationWarning: Interpreting naive datetime as local 2017-05-02 15:52:51.601222. Please add timezone info to timestamps.\n",
      "  chunks = self.iterencode(o, _one_shot=True)\n"
     ]
    }
   ],
   "source": [
    "with open(json_file) as data_file:\n",
    "    data = json.load(data_file)"
   ]
  },
  {
   "cell_type": "code",
   "execution_count": 4,
   "metadata": {
    "collapsed": false
   },
   "outputs": [
    {
     "name": "stderr",
     "output_type": "stream",
     "text": [
      "/Users/daniel/miniconda3/lib/python3.5/site-packages/jupyter_client/jsonutil.py:67: DeprecationWarning: Interpreting naive datetime as local 2017-05-02 15:53:00.915591. Please add timezone info to timestamps.\n",
      "  new_obj[k] = extract_dates(v)\n",
      "/Users/daniel/miniconda3/lib/python3.5/json/encoder.py:198: DeprecationWarning: Interpreting naive datetime as local 2017-05-02 15:53:00.917138. Please add timezone info to timestamps.\n",
      "  chunks = self.iterencode(o, _one_shot=True)\n"
     ]
    }
   ],
   "source": [
    "class LinkedView(plugins.PluginBase):\n",
    "    \"\"\"A simple plugin showing how multiple axes can be linked\"\"\"\n",
    "\n",
    "    JAVASCRIPT = \"\"\"\n",
    "    mpld3.register_plugin(\"linkedview\", LinkedViewPlugin);\n",
    "    LinkedViewPlugin.prototype = Object.create(mpld3.Plugin.prototype);\n",
    "    LinkedViewPlugin.prototype.constructor = LinkedViewPlugin;\n",
    "    LinkedViewPlugin.prototype.requiredProps = [\"idpts\", \"idline\", \"data\"];\n",
    "    LinkedViewPlugin.prototype.defaultProps = {}\n",
    "    function LinkedViewPlugin(fig, props){\n",
    "        mpld3.Plugin.call(this, fig, props);\n",
    "    };\n",
    "\n",
    "    LinkedViewPlugin.prototype.draw = function(){\n",
    "      var pts = mpld3.get_element(this.props.idpts);\n",
    "      var line = mpld3.get_element(this.props.idline);\n",
    "      var data = this.props.data;\n",
    "\n",
    "      function mouseover(d, i){\n",
    "        line.data = data[i];\n",
    "        line.elements().transition()\n",
    "            .attr(\"d\", line.datafunc(line.data))\n",
    "            .style(\"stroke\", this.style.fill);\n",
    "      }\n",
    "      pts.elements().on(\"mouseover\", mouseover);\n",
    "    };\n",
    "    \"\"\"\n",
    "\n",
    "    def __init__(self, points, line, linedata):\n",
    "        if isinstance(points, matplotlib.lines.Line2D):\n",
    "            suffix = \"pts\"\n",
    "        else:\n",
    "            suffix = None\n",
    "\n",
    "        self.dict_ = {\"type\": \"linkedview\",\n",
    "                      \"idpts\": utils.get_id(points, suffix),\n",
    "                      \"idline\": utils.get_id(line),\n",
    "                      \"data\": linedata}\n"
   ]
  },
  {
   "cell_type": "code",
   "execution_count": 20,
   "metadata": {
    "collapsed": false
   },
   "outputs": [
    {
     "name": "stderr",
     "output_type": "stream",
     "text": [
      "/Users/daniel/miniconda3/lib/python3.5/site-packages/jupyter_client/jsonutil.py:67: DeprecationWarning: Interpreting naive datetime as local 2017-05-02 16:47:42.969869. Please add timezone info to timestamps.\n",
      "  new_obj[k] = extract_dates(v)\n"
     ]
    },
    {
     "data": {
      "text/plain": [
       "dict_values([1070.0, 1260.0, 1110.0, 1250.0, 1240.0, 1270.0, 1440.0, 1450.0, 1470.0, 1230.0, 1220.0, 1140.0, 1460.0, 1220.0, 1160.0, 1090.0, 1430.0, 1190.0, 1460.0, 1030.0, 1430.0, 1440.0, 1470.0, 690.0, 1470.0, 890.0, 1420.0, 1430.0, 1220.0, 1460.0, 1320.0, 1450.0, 1070.0, 1240.0, 1090.0, 1120.0, 1460.0, 1450.0, 930.0, 970.0, 1450.0, 1480.0, 1410.0, 1310.0, 1200.0, 760.0, 860.0, 1230.0, 1200.0, 1260.0])"
      ]
     },
     "execution_count": 20,
     "metadata": {},
     "output_type": "execute_result"
    },
    {
     "name": "stderr",
     "output_type": "stream",
     "text": [
      "/Users/daniel/miniconda3/lib/python3.5/json/encoder.py:198: DeprecationWarning: Interpreting naive datetime as local 2017-05-02 16:47:42.972457. Please add timezone info to timestamps.\n",
      "  chunks = self.iterencode(o, _one_shot=True)\n"
     ]
    }
   ],
   "source": [
    "# Data Processing Block\n",
    "########################\n",
    "\n",
    "noAss = len(data['assignments'])\n",
    "\n",
    "# Student related properties\n",
    "studentTotals = {}\n",
    "studentAvgPostLen = {}\n",
    "studentAvgLate = {}\n",
    "studentLate = {}\n",
    "studentScores = {}\n",
    "studentPosts = {}\n",
    "\n",
    "# Assignment related properties\n",
    "for student in data['students']:\n",
    "    studentTotals[student['sortable_name']] = 0\n",
    "    totalPostLen = 0\n",
    "    totalPosts = 0\n",
    "    late = []\n",
    "    scores = []\n",
    "    posts = []\n",
    "    for grade in student['grades']:\n",
    "        if grade['score'] is None:\n",
    "            grade['score'] = 0\n",
    "        studentTotals[student[\"sortable_name\"]] += float(grade['score'])\n",
    "        scores.append(grade['score'])\n",
    "        allPosts = [x['length'] for x in grade['posts']]\n",
    "        totalPostLen += sum(allPosts)\n",
    "        totalPosts += 1 #len(allPosts)\n",
    "        late.append(grade['late'])\n",
    "        posts.append(sum(allPosts))\n",
    "    studentAvgLate[student[\"sortable_name\"]] = late[int(noAss/2)]\n",
    "    studentLate[student[\"sortable_name\"]] = late\n",
    "    studentAvgPostLen[student[\"sortable_name\"]] = totalPostLen / totalPosts\n",
    "    studentScores[student[\"sortable_name\"]] = scores\n",
    "    studentPosts[student[\"sortable_name\"]] = posts\n",
    "#pprint(studentAvgPostLen)\n",
    "\n",
    "studentTotals.values()"
   ]
  },
  {
   "cell_type": "markdown",
   "metadata": {},
   "source": [
    "### Class Overview\n",
    "It's that time of the year again where tough decisions need to be made. Who gets an A and who doesnt?"
   ]
  },
  {
   "cell_type": "code",
   "execution_count": 23,
   "metadata": {
    "collapsed": false
   },
   "outputs": [
    {
     "name": "stderr",
     "output_type": "stream",
     "text": [
      "/Users/daniel/miniconda3/lib/python3.5/site-packages/jupyter_client/jsonutil.py:67: DeprecationWarning: Interpreting naive datetime as local 2017-05-02 17:01:57.636556. Please add timezone info to timestamps.\n",
      "  new_obj[k] = extract_dates(v)\n"
     ]
    },
    {
     "data": {
      "image/png": "[encoded data removed]",
      "text/html": [
       "\n",
       "\n",
       "<style>\n",
       "\n",
       "</style>\n",
       "\n",
       "<div id=\"fig_el1351346021988407371355626\"></div>\n",
       "<script>\n",
       "function mpld3_load_lib(url, callback){\n",
       "  var s = document.createElement('script');\n",
       "  s.src = url;\n",
       "  s.async = true;\n",
       "  s.onreadystatechange = s.onload = callback;\n",
       "  s.onerror = function(){console.warn(\"failed to load library \" + url);};\n",
       "  document.getElementsByTagName(\"head\")[0].appendChild(s);\n",
       "}\n",
       "\n",
       "if(typeof(mpld3) !== \"undefined\" && mpld3._mpld3IsLoaded){\n",
       "   // already loaded: just create the figure\n",
       "   !function(mpld3){\n",
       "       \n",
       "       mpld3.draw_figure(\"fig_el1351346021988407371355626\", {\"id\": \"el135134602198840\", \"axes\": [{\"axesbgalpha\": null, \"lines\": [], \"xscale\": \"linear\", \"ylim\": [0.0, 9.45], \"xdomain\": [650.5, 1519.5], \"sharex\": [], \"bbox\": [0.125, 0.125, 0.775, 0.755], \"texts\": [], \"axesbg\": \"#EEEEEE\", \"axes\": [{\"scale\": \"linear\", \"grid\": {\"gridOn\": true, \"dasharray\": \"10,0\", \"color\": \"#FFFFFF\", \"alpha\": 1.0}, \"position\": \"bottom\", \"tickformat\": null, \"fontsize\": 10.0, \"nticks\": 11, \"tickvalues\": null}, {\"scale\": \"linear\", \"grid\": {\"gridOn\": true, \"dasharray\": \"10,0\", \"color\": \"#FFFFFF\", \"alpha\": 1.0}, \"position\": \"left\", \"tickformat\": null, \"fontsize\": 10.0, \"nticks\": 6, \"tickvalues\": null}], \"zoomable\": true, \"yscale\": \"linear\", \"sharey\": [], \"collections\": [], \"xlim\": [650.5, 1519.5], \"ydomain\": [0.0, 9.45], \"id\": \"el135134602199512\", \"paths\": [{\"xindex\": 0, \"data\": \"data01\", \"pathcodes\": [\"M\", \"L\", \"L\", \"L\", \"L\", \"L\", \"L\", \"L\", \"L\", \"L\", \"L\", \"L\", \"L\", \"L\", \"L\", \"L\", \"L\", \"L\", \"L\", \"L\", \"L\", \"L\", \"L\", \"L\", \"L\", \"L\", \"L\", \"L\", \"L\", \"L\", \"L\", \"L\", \"L\", \"L\", \"L\", \"L\", \"L\", \"L\", \"L\", \"L\", \"L\", \"L\", \"L\", \"L\", \"L\", \"L\", \"L\", \"L\", \"L\", \"L\", \"L\", \"L\", \"L\", \"L\", \"L\", \"L\", \"L\", \"L\", \"L\", \"L\", \"L\", \"L\", \"L\", \"L\", \"L\", \"L\", \"L\", \"L\", \"L\", \"L\", \"L\", \"L\", \"L\", \"L\", \"L\", \"L\", \"L\", \"L\", \"L\", \"L\", \"L\", \"L\", \"L\", \"L\", \"L\", \"L\", \"L\", \"L\", \"L\", \"L\", \"L\", \"L\", \"L\", \"L\", \"L\", \"L\", \"L\", \"L\", \"L\", \"L\", \"L\", \"L\", \"L\", \"L\", \"L\", \"L\", \"L\", \"L\", \"L\", \"L\", \"L\", \"L\", \"L\", \"L\", \"L\", \"L\", \"L\", \"L\", \"L\", \"L\", \"Z\"], \"coordinates\": \"data\", \"edgewidth\": 1.0, \"edgecolor\": \"#000000\", \"zorder\": 1, \"id\": \"el135134604922736\", \"alpha\": 0.5, \"facecolor\": \"#0000FF\", \"yindex\": 1, \"dasharray\": \"10,0\"}], \"markers\": [], \"images\": []}], \"plugins\": [{\"type\": \"reset\"}, {\"button\": true, \"type\": \"zoom\", \"enabled\": false}, {\"button\": true, \"type\": \"boxzoom\", \"enabled\": false}], \"height\": 432.0, \"data\": {\"data01\": [[690.0, 0.0], [690.0, 1.0], [716.3333333333334, 1.0], [716.3333333333334, 0.0], [742.6666666666666, 0.0], [742.6666666666666, 1.0], [769.0, 1.0], [769.0, 0.0], [795.3333333333334, 0.0], [795.3333333333334, 0.0], [821.6666666666666, 0.0], [821.6666666666666, 0.0], [848.0, 0.0], [848.0, 1.0], [874.3333333333333, 1.0], [874.3333333333333, 1.0], [900.6666666666666, 1.0], [900.6666666666666, 0.0], [927.0, 0.0], [927.0, 1.0], [953.3333333333333, 1.0], [953.3333333333333, 1.0], [979.6666666666666, 1.0], [979.6666666666666, 0.0], [1006.0, 0.0], [1006.0, 1.0], [1032.3333333333333, 1.0], [1032.3333333333333, 0.0], [1058.6666666666665, 0.0], [1058.6666666666665, 2.0], [1085.0, 2.0], [1085.0, 3.0], [1111.3333333333333, 3.0], [1111.3333333333333, 1.0], [1137.6666666666665, 1.0], [1137.6666666666665, 2.0], [1164.0, 2.0], [1164.0, 1.0], [1190.3333333333333, 1.0], [1190.3333333333333, 2.0], [1216.6666666666665, 2.0], [1216.6666666666665, 7.0], [1243.0, 7.0], [1243.0, 3.0], [1269.3333333333333, 3.0], [1269.3333333333333, 1.0], [1295.6666666666665, 1.0], [1295.6666666666665, 2.0], [1322.0, 2.0], [1322.0, 0.0], [1348.3333333333333, 0.0], [1348.3333333333333, 0.0], [1374.6666666666665, 0.0], [1374.6666666666665, 0.0], [1401.0, 0.0], [1401.0, 2.0], [1427.3333333333333, 2.0], [1427.3333333333333, 9.0], [1453.6666666666665, 9.0], [1453.6666666666665, 8.0], [1480.0, 8.0], [1480.0, 0.0], [1453.6666666666665, 0.0], [1453.6666666666665, 0.0], [1427.3333333333333, 0.0], [1427.3333333333333, 0.0], [1401.0, 0.0], [1401.0, 0.0], [1374.6666666666665, 0.0], [1374.6666666666665, 0.0], [1348.3333333333333, 0.0], [1348.3333333333333, 0.0], [1322.0, 0.0], [1322.0, 0.0], [1295.6666666666665, 0.0], [1295.6666666666665, 0.0], [1269.3333333333333, 0.0], [1269.3333333333333, 0.0], [1243.0, 0.0], [1243.0, 0.0], [1216.6666666666665, 0.0], [1216.6666666666665, 0.0], [1190.3333333333333, 0.0], [1190.3333333333333, 0.0], [1164.0, 0.0], [1164.0, 0.0], [1137.6666666666665, 0.0], [1137.6666666666665, 0.0], [1111.3333333333333, 0.0], [1111.3333333333333, 0.0], [1085.0, 0.0], [1085.0, 0.0], [1058.6666666666665, 0.0], [1058.6666666666665, 0.0], [1032.3333333333333, 0.0], [1032.3333333333333, 0.0], [1006.0, 0.0], [1006.0, 0.0], [979.6666666666666, 0.0], [979.6666666666666, 0.0], [953.3333333333333, 0.0], [953.3333333333333, 0.0], [927.0, 0.0], [927.0, 0.0], [900.6666666666666, 0.0], [900.6666666666666, 0.0], [874.3333333333333, 0.0], [874.3333333333333, 0.0], [848.0, 0.0], [848.0, 0.0], [821.6666666666666, 0.0], [821.6666666666666, 0.0], [795.3333333333334, 0.0], [795.3333333333334, 0.0], [769.0, 0.0], [769.0, 0.0], [742.6666666666666, 0.0], [742.6666666666666, 0.0], [716.3333333333334, 0.0], [716.3333333333334, 0.0]]}, \"width\": 576.0});\n",
       "   }(mpld3);\n",
       "}else if(typeof define === \"function\" && define.amd){\n",
       "   // require.js is available: use it to load d3/mpld3\n",
       "   require.config({paths: {d3: \"https://mpld3.github.io/js/d3.v3.min\"}});\n",
       "   require([\"d3\"], function(d3){\n",
       "      window.d3 = d3;\n",
       "      mpld3_load_lib(\"https://mpld3.github.io/js/mpld3.v0.2.js\", function(){\n",
       "         \n",
       "         mpld3.draw_figure(\"fig_el1351346021988407371355626\", {\"id\": \"el135134602198840\", \"axes\": [{\"axesbgalpha\": null, \"lines\": [], \"xscale\": \"linear\", \"ylim\": [0.0, 9.45], \"xdomain\": [650.5, 1519.5], \"sharex\": [], \"bbox\": [0.125, 0.125, 0.775, 0.755], \"texts\": [], \"axesbg\": \"#EEEEEE\", \"axes\": [{\"scale\": \"linear\", \"grid\": {\"gridOn\": true, \"dasharray\": \"10,0\", \"color\": \"#FFFFFF\", \"alpha\": 1.0}, \"position\": \"bottom\", \"tickformat\": null, \"fontsize\": 10.0, \"nticks\": 11, \"tickvalues\": null}, {\"scale\": \"linear\", \"grid\": {\"gridOn\": true, \"dasharray\": \"10,0\", \"color\": \"#FFFFFF\", \"alpha\": 1.0}, \"position\": \"left\", \"tickformat\": null, \"fontsize\": 10.0, \"nticks\": 6, \"tickvalues\": null}], \"zoomable\": true, \"yscale\": \"linear\", \"sharey\": [], \"collections\": [], \"xlim\": [650.5, 1519.5], \"ydomain\": [0.0, 9.45], \"id\": \"el135134602199512\", \"paths\": [{\"xindex\": 0, \"data\": \"data01\", \"pathcodes\": [\"M\", \"L\", \"L\", \"L\", \"L\", \"L\", \"L\", \"L\", \"L\", \"L\", \"L\", \"L\", \"L\", \"L\", \"L\", \"L\", \"L\", \"L\", \"L\", \"L\", \"L\", \"L\", \"L\", \"L\", \"L\", \"L\", \"L\", \"L\", \"L\", \"L\", \"L\", \"L\", \"L\", \"L\", \"L\", \"L\", \"L\", \"L\", \"L\", \"L\", \"L\", \"L\", \"L\", \"L\", \"L\", \"L\", \"L\", \"L\", \"L\", \"L\", \"L\", \"L\", \"L\", \"L\", \"L\", \"L\", \"L\", \"L\", \"L\", \"L\", \"L\", \"L\", \"L\", \"L\", \"L\", \"L\", \"L\", \"L\", \"L\", \"L\", \"L\", \"L\", \"L\", \"L\", \"L\", \"L\", \"L\", \"L\", \"L\", \"L\", \"L\", \"L\", \"L\", \"L\", \"L\", \"L\", \"L\", \"L\", \"L\", \"L\", \"L\", \"L\", \"L\", \"L\", \"L\", \"L\", \"L\", \"L\", \"L\", \"L\", \"L\", \"L\", \"L\", \"L\", \"L\", \"L\", \"L\", \"L\", \"L\", \"L\", \"L\", \"L\", \"L\", \"L\", \"L\", \"L\", \"L\", \"L\", \"L\", \"L\", \"Z\"], \"coordinates\": \"data\", \"edgewidth\": 1.0, \"edgecolor\": \"#000000\", \"zorder\": 1, \"id\": \"el135134604922736\", \"alpha\": 0.5, \"facecolor\": \"#0000FF\", \"yindex\": 1, \"dasharray\": \"10,0\"}], \"markers\": [], \"images\": []}], \"plugins\": [{\"type\": \"reset\"}, {\"button\": true, \"type\": \"zoom\", \"enabled\": false}, {\"button\": true, \"type\": \"boxzoom\", \"enabled\": false}], \"height\": 432.0, \"data\": {\"data01\": [[690.0, 0.0], [690.0, 1.0], [716.3333333333334, 1.0], [716.3333333333334, 0.0], [742.6666666666666, 0.0], [742.6666666666666, 1.0], [769.0, 1.0], [769.0, 0.0], [795.3333333333334, 0.0], [795.3333333333334, 0.0], [821.6666666666666, 0.0], [821.6666666666666, 0.0], [848.0, 0.0], [848.0, 1.0], [874.3333333333333, 1.0], [874.3333333333333, 1.0], [900.6666666666666, 1.0], [900.6666666666666, 0.0], [927.0, 0.0], [927.0, 1.0], [953.3333333333333, 1.0], [953.3333333333333, 1.0], [979.6666666666666, 1.0], [979.6666666666666, 0.0], [1006.0, 0.0], [1006.0, 1.0], [1032.3333333333333, 1.0], [1032.3333333333333, 0.0], [1058.6666666666665, 0.0], [1058.6666666666665, 2.0], [1085.0, 2.0], [1085.0, 3.0], [1111.3333333333333, 3.0], [1111.3333333333333, 1.0], [1137.6666666666665, 1.0], [1137.6666666666665, 2.0], [1164.0, 2.0], [1164.0, 1.0], [1190.3333333333333, 1.0], [1190.3333333333333, 2.0], [1216.6666666666665, 2.0], [1216.6666666666665, 7.0], [1243.0, 7.0], [1243.0, 3.0], [1269.3333333333333, 3.0], [1269.3333333333333, 1.0], [1295.6666666666665, 1.0], [1295.6666666666665, 2.0], [1322.0, 2.0], [1322.0, 0.0], [1348.3333333333333, 0.0], [1348.3333333333333, 0.0], [1374.6666666666665, 0.0], [1374.6666666666665, 0.0], [1401.0, 0.0], [1401.0, 2.0], [1427.3333333333333, 2.0], [1427.3333333333333, 9.0], [1453.6666666666665, 9.0], [1453.6666666666665, 8.0], [1480.0, 8.0], [1480.0, 0.0], [1453.6666666666665, 0.0], [1453.6666666666665, 0.0], [1427.3333333333333, 0.0], [1427.3333333333333, 0.0], [1401.0, 0.0], [1401.0, 0.0], [1374.6666666666665, 0.0], [1374.6666666666665, 0.0], [1348.3333333333333, 0.0], [1348.3333333333333, 0.0], [1322.0, 0.0], [1322.0, 0.0], [1295.6666666666665, 0.0], [1295.6666666666665, 0.0], [1269.3333333333333, 0.0], [1269.3333333333333, 0.0], [1243.0, 0.0], [1243.0, 0.0], [1216.6666666666665, 0.0], [1216.6666666666665, 0.0], [1190.3333333333333, 0.0], [1190.3333333333333, 0.0], [1164.0, 0.0], [1164.0, 0.0], [1137.6666666666665, 0.0], [1137.6666666666665, 0.0], [1111.3333333333333, 0.0], [1111.3333333333333, 0.0], [1085.0, 0.0], [1085.0, 0.0], [1058.6666666666665, 0.0], [1058.6666666666665, 0.0], [1032.3333333333333, 0.0], [1032.3333333333333, 0.0], [1006.0, 0.0], [1006.0, 0.0], [979.6666666666666, 0.0], [979.6666666666666, 0.0], [953.3333333333333, 0.0], [953.3333333333333, 0.0], [927.0, 0.0], [927.0, 0.0], [900.6666666666666, 0.0], [900.6666666666666, 0.0], [874.3333333333333, 0.0], [874.3333333333333, 0.0], [848.0, 0.0], [848.0, 0.0], [821.6666666666666, 0.0], [821.6666666666666, 0.0], [795.3333333333334, 0.0], [795.3333333333334, 0.0], [769.0, 0.0], [769.0, 0.0], [742.6666666666666, 0.0], [742.6666666666666, 0.0], [716.3333333333334, 0.0], [716.3333333333334, 0.0]]}, \"width\": 576.0});\n",
       "      });\n",
       "    });\n",
       "}else{\n",
       "    // require.js not available: dynamically load d3 & mpld3\n",
       "    mpld3_load_lib(\"https://mpld3.github.io/js/d3.v3.min.js\", function(){\n",
       "         mpld3_load_lib(\"https://mpld3.github.io/js/mpld3.v0.2.js\", function(){\n",
       "                 \n",
       "                 mpld3.draw_figure(\"fig_el1351346021988407371355626\", {\"id\": \"el135134602198840\", \"axes\": [{\"axesbgalpha\": null, \"lines\": [], \"xscale\": \"linear\", \"ylim\": [0.0, 9.45], \"xdomain\": [650.5, 1519.5], \"sharex\": [], \"bbox\": [0.125, 0.125, 0.775, 0.755], \"texts\": [], \"axesbg\": \"#EEEEEE\", \"axes\": [{\"scale\": \"linear\", \"grid\": {\"gridOn\": true, \"dasharray\": \"10,0\", \"color\": \"#FFFFFF\", \"alpha\": 1.0}, \"position\": \"bottom\", \"tickformat\": null, \"fontsize\": 10.0, \"nticks\": 11, \"tickvalues\": null}, {\"scale\": \"linear\", \"grid\": {\"gridOn\": true, \"dasharray\": \"10,0\", \"color\": \"#FFFFFF\", \"alpha\": 1.0}, \"position\": \"left\", \"tickformat\": null, \"fontsize\": 10.0, \"nticks\": 6, \"tickvalues\": null}], \"zoomable\": true, \"yscale\": \"linear\", \"sharey\": [], \"collections\": [], \"xlim\": [650.5, 1519.5], \"ydomain\": [0.0, 9.45], \"id\": \"el135134602199512\", \"paths\": [{\"xindex\": 0, \"data\": \"data01\", \"pathcodes\": [\"M\", \"L\", \"L\", \"L\", \"L\", \"L\", \"L\", \"L\", \"L\", \"L\", \"L\", \"L\", \"L\", \"L\", \"L\", \"L\", \"L\", \"L\", \"L\", \"L\", \"L\", \"L\", \"L\", \"L\", \"L\", \"L\", \"L\", \"L\", \"L\", \"L\", \"L\", \"L\", \"L\", \"L\", \"L\", \"L\", \"L\", \"L\", \"L\", \"L\", \"L\", \"L\", \"L\", \"L\", \"L\", \"L\", \"L\", \"L\", \"L\", \"L\", \"L\", \"L\", \"L\", \"L\", \"L\", \"L\", \"L\", \"L\", \"L\", \"L\", \"L\", \"L\", \"L\", \"L\", \"L\", \"L\", \"L\", \"L\", \"L\", \"L\", \"L\", \"L\", \"L\", \"L\", \"L\", \"L\", \"L\", \"L\", \"L\", \"L\", \"L\", \"L\", \"L\", \"L\", \"L\", \"L\", \"L\", \"L\", \"L\", \"L\", \"L\", \"L\", \"L\", \"L\", \"L\", \"L\", \"L\", \"L\", \"L\", \"L\", \"L\", \"L\", \"L\", \"L\", \"L\", \"L\", \"L\", \"L\", \"L\", \"L\", \"L\", \"L\", \"L\", \"L\", \"L\", \"L\", \"L\", \"L\", \"L\", \"L\", \"Z\"], \"coordinates\": \"data\", \"edgewidth\": 1.0, \"edgecolor\": \"#000000\", \"zorder\": 1, \"id\": \"el135134604922736\", \"alpha\": 0.5, \"facecolor\": \"#0000FF\", \"yindex\": 1, \"dasharray\": \"10,0\"}], \"markers\": [], \"images\": []}], \"plugins\": [{\"type\": \"reset\"}, {\"button\": true, \"type\": \"zoom\", \"enabled\": false}, {\"button\": true, \"type\": \"boxzoom\", \"enabled\": false}], \"height\": 432.0, \"data\": {\"data01\": [[690.0, 0.0], [690.0, 1.0], [716.3333333333334, 1.0], [716.3333333333334, 0.0], [742.6666666666666, 0.0], [742.6666666666666, 1.0], [769.0, 1.0], [769.0, 0.0], [795.3333333333334, 0.0], [795.3333333333334, 0.0], [821.6666666666666, 0.0], [821.6666666666666, 0.0], [848.0, 0.0], [848.0, 1.0], [874.3333333333333, 1.0], [874.3333333333333, 1.0], [900.6666666666666, 1.0], [900.6666666666666, 0.0], [927.0, 0.0], [927.0, 1.0], [953.3333333333333, 1.0], [953.3333333333333, 1.0], [979.6666666666666, 1.0], [979.6666666666666, 0.0], [1006.0, 0.0], [1006.0, 1.0], [1032.3333333333333, 1.0], [1032.3333333333333, 0.0], [1058.6666666666665, 0.0], [1058.6666666666665, 2.0], [1085.0, 2.0], [1085.0, 3.0], [1111.3333333333333, 3.0], [1111.3333333333333, 1.0], [1137.6666666666665, 1.0], [1137.6666666666665, 2.0], [1164.0, 2.0], [1164.0, 1.0], [1190.3333333333333, 1.0], [1190.3333333333333, 2.0], [1216.6666666666665, 2.0], [1216.6666666666665, 7.0], [1243.0, 7.0], [1243.0, 3.0], [1269.3333333333333, 3.0], [1269.3333333333333, 1.0], [1295.6666666666665, 1.0], [1295.6666666666665, 2.0], [1322.0, 2.0], [1322.0, 0.0], [1348.3333333333333, 0.0], [1348.3333333333333, 0.0], [1374.6666666666665, 0.0], [1374.6666666666665, 0.0], [1401.0, 0.0], [1401.0, 2.0], [1427.3333333333333, 2.0], [1427.3333333333333, 9.0], [1453.6666666666665, 9.0], [1453.6666666666665, 8.0], [1480.0, 8.0], [1480.0, 0.0], [1453.6666666666665, 0.0], [1453.6666666666665, 0.0], [1427.3333333333333, 0.0], [1427.3333333333333, 0.0], [1401.0, 0.0], [1401.0, 0.0], [1374.6666666666665, 0.0], [1374.6666666666665, 0.0], [1348.3333333333333, 0.0], [1348.3333333333333, 0.0], [1322.0, 0.0], [1322.0, 0.0], [1295.6666666666665, 0.0], [1295.6666666666665, 0.0], [1269.3333333333333, 0.0], [1269.3333333333333, 0.0], [1243.0, 0.0], [1243.0, 0.0], [1216.6666666666665, 0.0], [1216.6666666666665, 0.0], [1190.3333333333333, 0.0], [1190.3333333333333, 0.0], [1164.0, 0.0], [1164.0, 0.0], [1137.6666666666665, 0.0], [1137.6666666666665, 0.0], [1111.3333333333333, 0.0], [1111.3333333333333, 0.0], [1085.0, 0.0], [1085.0, 0.0], [1058.6666666666665, 0.0], [1058.6666666666665, 0.0], [1032.3333333333333, 0.0], [1032.3333333333333, 0.0], [1006.0, 0.0], [1006.0, 0.0], [979.6666666666666, 0.0], [979.6666666666666, 0.0], [953.3333333333333, 0.0], [953.3333333333333, 0.0], [927.0, 0.0], [927.0, 0.0], [900.6666666666666, 0.0], [900.6666666666666, 0.0], [874.3333333333333, 0.0], [874.3333333333333, 0.0], [848.0, 0.0], [848.0, 0.0], [821.6666666666666, 0.0], [821.6666666666666, 0.0], [795.3333333333334, 0.0], [795.3333333333334, 0.0], [769.0, 0.0], [769.0, 0.0], [742.6666666666666, 0.0], [742.6666666666666, 0.0], [716.3333333333334, 0.0], [716.3333333333334, 0.0]]}, \"width\": 576.0});\n",
       "            })\n",
       "         });\n",
       "}\n",
       "</script>"
      ],
      "text/plain": [
       "<matplotlib.figure.Figure at 0x1124ffb38>"
      ]
     },
     "execution_count": 23,
     "metadata": {},
     "output_type": "execute_result"
    },
    {
     "data": {
      "image/png": "[encoded data removed]",
      "text/html": [
       "\n",
       "\n",
       "<style>\n",
       "\n",
       "</style>\n",
       "\n",
       "<div id=\"fig_el1351346021988405993314764\"></div>\n",
       "<script>\n",
       "function mpld3_load_lib(url, callback){\n",
       "  var s = document.createElement('script');\n",
       "  s.src = url;\n",
       "  s.async = true;\n",
       "  s.onreadystatechange = s.onload = callback;\n",
       "  s.onerror = function(){console.warn(\"failed to load library \" + url);};\n",
       "  document.getElementsByTagName(\"head\")[0].appendChild(s);\n",
       "}\n",
       "\n",
       "if(typeof(mpld3) !== \"undefined\" && mpld3._mpld3IsLoaded){\n",
       "   // already loaded: just create the figure\n",
       "   !function(mpld3){\n",
       "       \n",
       "       mpld3.draw_figure(\"fig_el1351346021988405993314764\", {\"id\": \"el135134602198840\", \"axes\": [{\"axesbgalpha\": null, \"lines\": [], \"xscale\": \"linear\", \"ylim\": [0.0, 9.45], \"xdomain\": [650.5, 1519.5], \"sharex\": [], \"bbox\": [0.125, 0.125, 0.775, 0.755], \"texts\": [], \"axesbg\": \"#EEEEEE\", \"axes\": [{\"scale\": \"linear\", \"grid\": {\"gridOn\": true, \"dasharray\": \"10,0\", \"color\": \"#FFFFFF\", \"alpha\": 1.0}, \"position\": \"bottom\", \"tickformat\": null, \"fontsize\": 10.0, \"nticks\": 11, \"tickvalues\": null}, {\"scale\": \"linear\", \"grid\": {\"gridOn\": true, \"dasharray\": \"10,0\", \"color\": \"#FFFFFF\", \"alpha\": 1.0}, \"position\": \"left\", \"tickformat\": null, \"fontsize\": 10.0, \"nticks\": 6, \"tickvalues\": null}], \"zoomable\": true, \"yscale\": \"linear\", \"sharey\": [], \"collections\": [], \"xlim\": [650.5, 1519.5], \"ydomain\": [0.0, 9.45], \"id\": \"el135134602199512\", \"paths\": [{\"xindex\": 0, \"data\": \"data01\", \"pathcodes\": [\"M\", \"L\", \"L\", \"L\", \"L\", \"L\", \"L\", \"L\", \"L\", \"L\", \"L\", \"L\", \"L\", \"L\", \"L\", \"L\", \"L\", \"L\", \"L\", \"L\", \"L\", \"L\", \"L\", \"L\", \"L\", \"L\", \"L\", \"L\", \"L\", \"L\", \"L\", \"L\", \"L\", \"L\", \"L\", \"L\", \"L\", \"L\", \"L\", \"L\", \"L\", \"L\", \"L\", \"L\", \"L\", \"L\", \"L\", \"L\", \"L\", \"L\", \"L\", \"L\", \"L\", \"L\", \"L\", \"L\", \"L\", \"L\", \"L\", \"L\", \"L\", \"L\", \"L\", \"L\", \"L\", \"L\", \"L\", \"L\", \"L\", \"L\", \"L\", \"L\", \"L\", \"L\", \"L\", \"L\", \"L\", \"L\", \"L\", \"L\", \"L\", \"L\", \"L\", \"L\", \"L\", \"L\", \"L\", \"L\", \"L\", \"L\", \"L\", \"L\", \"L\", \"L\", \"L\", \"L\", \"L\", \"L\", \"L\", \"L\", \"L\", \"L\", \"L\", \"L\", \"L\", \"L\", \"L\", \"L\", \"L\", \"L\", \"L\", \"L\", \"L\", \"L\", \"L\", \"L\", \"L\", \"L\", \"L\", \"L\", \"Z\"], \"coordinates\": \"data\", \"edgewidth\": 1.0, \"edgecolor\": \"#000000\", \"zorder\": 1, \"id\": \"el135134604922736\", \"alpha\": 0.5, \"facecolor\": \"#0000FF\", \"yindex\": 1, \"dasharray\": \"10,0\"}], \"markers\": [], \"images\": []}], \"plugins\": [{\"type\": \"reset\"}, {\"button\": true, \"type\": \"zoom\", \"enabled\": false}, {\"button\": true, \"type\": \"boxzoom\", \"enabled\": false}], \"height\": 432.0, \"data\": {\"data01\": [[690.0, 0.0], [690.0, 1.0], [716.3333333333334, 1.0], [716.3333333333334, 0.0], [742.6666666666666, 0.0], [742.6666666666666, 1.0], [769.0, 1.0], [769.0, 0.0], [795.3333333333334, 0.0], [795.3333333333334, 0.0], [821.6666666666666, 0.0], [821.6666666666666, 0.0], [848.0, 0.0], [848.0, 1.0], [874.3333333333333, 1.0], [874.3333333333333, 1.0], [900.6666666666666, 1.0], [900.6666666666666, 0.0], [927.0, 0.0], [927.0, 1.0], [953.3333333333333, 1.0], [953.3333333333333, 1.0], [979.6666666666666, 1.0], [979.6666666666666, 0.0], [1006.0, 0.0], [1006.0, 1.0], [1032.3333333333333, 1.0], [1032.3333333333333, 0.0], [1058.6666666666665, 0.0], [1058.6666666666665, 2.0], [1085.0, 2.0], [1085.0, 3.0], [1111.3333333333333, 3.0], [1111.3333333333333, 1.0], [1137.6666666666665, 1.0], [1137.6666666666665, 2.0], [1164.0, 2.0], [1164.0, 1.0], [1190.3333333333333, 1.0], [1190.3333333333333, 2.0], [1216.6666666666665, 2.0], [1216.6666666666665, 7.0], [1243.0, 7.0], [1243.0, 3.0], [1269.3333333333333, 3.0], [1269.3333333333333, 1.0], [1295.6666666666665, 1.0], [1295.6666666666665, 2.0], [1322.0, 2.0], [1322.0, 0.0], [1348.3333333333333, 0.0], [1348.3333333333333, 0.0], [1374.6666666666665, 0.0], [1374.6666666666665, 0.0], [1401.0, 0.0], [1401.0, 2.0], [1427.3333333333333, 2.0], [1427.3333333333333, 9.0], [1453.6666666666665, 9.0], [1453.6666666666665, 8.0], [1480.0, 8.0], [1480.0, 0.0], [1453.6666666666665, 0.0], [1453.6666666666665, 0.0], [1427.3333333333333, 0.0], [1427.3333333333333, 0.0], [1401.0, 0.0], [1401.0, 0.0], [1374.6666666666665, 0.0], [1374.6666666666665, 0.0], [1348.3333333333333, 0.0], [1348.3333333333333, 0.0], [1322.0, 0.0], [1322.0, 0.0], [1295.6666666666665, 0.0], [1295.6666666666665, 0.0], [1269.3333333333333, 0.0], [1269.3333333333333, 0.0], [1243.0, 0.0], [1243.0, 0.0], [1216.6666666666665, 0.0], [1216.6666666666665, 0.0], [1190.3333333333333, 0.0], [1190.3333333333333, 0.0], [1164.0, 0.0], [1164.0, 0.0], [1137.6666666666665, 0.0], [1137.6666666666665, 0.0], [1111.3333333333333, 0.0], [1111.3333333333333, 0.0], [1085.0, 0.0], [1085.0, 0.0], [1058.6666666666665, 0.0], [1058.6666666666665, 0.0], [1032.3333333333333, 0.0], [1032.3333333333333, 0.0], [1006.0, 0.0], [1006.0, 0.0], [979.6666666666666, 0.0], [979.6666666666666, 0.0], [953.3333333333333, 0.0], [953.3333333333333, 0.0], [927.0, 0.0], [927.0, 0.0], [900.6666666666666, 0.0], [900.6666666666666, 0.0], [874.3333333333333, 0.0], [874.3333333333333, 0.0], [848.0, 0.0], [848.0, 0.0], [821.6666666666666, 0.0], [821.6666666666666, 0.0], [795.3333333333334, 0.0], [795.3333333333334, 0.0], [769.0, 0.0], [769.0, 0.0], [742.6666666666666, 0.0], [742.6666666666666, 0.0], [716.3333333333334, 0.0], [716.3333333333334, 0.0]]}, \"width\": 576.0});\n",
       "   }(mpld3);\n",
       "}else if(typeof define === \"function\" && define.amd){\n",
       "   // require.js is available: use it to load d3/mpld3\n",
       "   require.config({paths: {d3: \"https://mpld3.github.io/js/d3.v3.min\"}});\n",
       "   require([\"d3\"], function(d3){\n",
       "      window.d3 = d3;\n",
       "      mpld3_load_lib(\"https://mpld3.github.io/js/mpld3.v0.2.js\", function(){\n",
       "         \n",
       "         mpld3.draw_figure(\"fig_el1351346021988405993314764\", {\"id\": \"el135134602198840\", \"axes\": [{\"axesbgalpha\": null, \"lines\": [], \"xscale\": \"linear\", \"ylim\": [0.0, 9.45], \"xdomain\": [650.5, 1519.5], \"sharex\": [], \"bbox\": [0.125, 0.125, 0.775, 0.755], \"texts\": [], \"axesbg\": \"#EEEEEE\", \"axes\": [{\"scale\": \"linear\", \"grid\": {\"gridOn\": true, \"dasharray\": \"10,0\", \"color\": \"#FFFFFF\", \"alpha\": 1.0}, \"position\": \"bottom\", \"tickformat\": null, \"fontsize\": 10.0, \"nticks\": 11, \"tickvalues\": null}, {\"scale\": \"linear\", \"grid\": {\"gridOn\": true, \"dasharray\": \"10,0\", \"color\": \"#FFFFFF\", \"alpha\": 1.0}, \"position\": \"left\", \"tickformat\": null, \"fontsize\": 10.0, \"nticks\": 6, \"tickvalues\": null}], \"zoomable\": true, \"yscale\": \"linear\", \"sharey\": [], \"collections\": [], \"xlim\": [650.5, 1519.5], \"ydomain\": [0.0, 9.45], \"id\": \"el135134602199512\", \"paths\": [{\"xindex\": 0, \"data\": \"data01\", \"pathcodes\": [\"M\", \"L\", \"L\", \"L\", \"L\", \"L\", \"L\", \"L\", \"L\", \"L\", \"L\", \"L\", \"L\", \"L\", \"L\", \"L\", \"L\", \"L\", \"L\", \"L\", \"L\", \"L\", \"L\", \"L\", \"L\", \"L\", \"L\", \"L\", \"L\", \"L\", \"L\", \"L\", \"L\", \"L\", \"L\", \"L\", \"L\", \"L\", \"L\", \"L\", \"L\", \"L\", \"L\", \"L\", \"L\", \"L\", \"L\", \"L\", \"L\", \"L\", \"L\", \"L\", \"L\", \"L\", \"L\", \"L\", \"L\", \"L\", \"L\", \"L\", \"L\", \"L\", \"L\", \"L\", \"L\", \"L\", \"L\", \"L\", \"L\", \"L\", \"L\", \"L\", \"L\", \"L\", \"L\", \"L\", \"L\", \"L\", \"L\", \"L\", \"L\", \"L\", \"L\", \"L\", \"L\", \"L\", \"L\", \"L\", \"L\", \"L\", \"L\", \"L\", \"L\", \"L\", \"L\", \"L\", \"L\", \"L\", \"L\", \"L\", \"L\", \"L\", \"L\", \"L\", \"L\", \"L\", \"L\", \"L\", \"L\", \"L\", \"L\", \"L\", \"L\", \"L\", \"L\", \"L\", \"L\", \"L\", \"L\", \"L\", \"Z\"], \"coordinates\": \"data\", \"edgewidth\": 1.0, \"edgecolor\": \"#000000\", \"zorder\": 1, \"id\": \"el135134604922736\", \"alpha\": 0.5, \"facecolor\": \"#0000FF\", \"yindex\": 1, \"dasharray\": \"10,0\"}], \"markers\": [], \"images\": []}], \"plugins\": [{\"type\": \"reset\"}, {\"button\": true, \"type\": \"zoom\", \"enabled\": false}, {\"button\": true, \"type\": \"boxzoom\", \"enabled\": false}], \"height\": 432.0, \"data\": {\"data01\": [[690.0, 0.0], [690.0, 1.0], [716.3333333333334, 1.0], [716.3333333333334, 0.0], [742.6666666666666, 0.0], [742.6666666666666, 1.0], [769.0, 1.0], [769.0, 0.0], [795.3333333333334, 0.0], [795.3333333333334, 0.0], [821.6666666666666, 0.0], [821.6666666666666, 0.0], [848.0, 0.0], [848.0, 1.0], [874.3333333333333, 1.0], [874.3333333333333, 1.0], [900.6666666666666, 1.0], [900.6666666666666, 0.0], [927.0, 0.0], [927.0, 1.0], [953.3333333333333, 1.0], [953.3333333333333, 1.0], [979.6666666666666, 1.0], [979.6666666666666, 0.0], [1006.0, 0.0], [1006.0, 1.0], [1032.3333333333333, 1.0], [1032.3333333333333, 0.0], [1058.6666666666665, 0.0], [1058.6666666666665, 2.0], [1085.0, 2.0], [1085.0, 3.0], [1111.3333333333333, 3.0], [1111.3333333333333, 1.0], [1137.6666666666665, 1.0], [1137.6666666666665, 2.0], [1164.0, 2.0], [1164.0, 1.0], [1190.3333333333333, 1.0], [1190.3333333333333, 2.0], [1216.6666666666665, 2.0], [1216.6666666666665, 7.0], [1243.0, 7.0], [1243.0, 3.0], [1269.3333333333333, 3.0], [1269.3333333333333, 1.0], [1295.6666666666665, 1.0], [1295.6666666666665, 2.0], [1322.0, 2.0], [1322.0, 0.0], [1348.3333333333333, 0.0], [1348.3333333333333, 0.0], [1374.6666666666665, 0.0], [1374.6666666666665, 0.0], [1401.0, 0.0], [1401.0, 2.0], [1427.3333333333333, 2.0], [1427.3333333333333, 9.0], [1453.6666666666665, 9.0], [1453.6666666666665, 8.0], [1480.0, 8.0], [1480.0, 0.0], [1453.6666666666665, 0.0], [1453.6666666666665, 0.0], [1427.3333333333333, 0.0], [1427.3333333333333, 0.0], [1401.0, 0.0], [1401.0, 0.0], [1374.6666666666665, 0.0], [1374.6666666666665, 0.0], [1348.3333333333333, 0.0], [1348.3333333333333, 0.0], [1322.0, 0.0], [1322.0, 0.0], [1295.6666666666665, 0.0], [1295.6666666666665, 0.0], [1269.3333333333333, 0.0], [1269.3333333333333, 0.0], [1243.0, 0.0], [1243.0, 0.0], [1216.6666666666665, 0.0], [1216.6666666666665, 0.0], [1190.3333333333333, 0.0], [1190.3333333333333, 0.0], [1164.0, 0.0], [1164.0, 0.0], [1137.6666666666665, 0.0], [1137.6666666666665, 0.0], [1111.3333333333333, 0.0], [1111.3333333333333, 0.0], [1085.0, 0.0], [1085.0, 0.0], [1058.6666666666665, 0.0], [1058.6666666666665, 0.0], [1032.3333333333333, 0.0], [1032.3333333333333, 0.0], [1006.0, 0.0], [1006.0, 0.0], [979.6666666666666, 0.0], [979.6666666666666, 0.0], [953.3333333333333, 0.0], [953.3333333333333, 0.0], [927.0, 0.0], [927.0, 0.0], [900.6666666666666, 0.0], [900.6666666666666, 0.0], [874.3333333333333, 0.0], [874.3333333333333, 0.0], [848.0, 0.0], [848.0, 0.0], [821.6666666666666, 0.0], [821.6666666666666, 0.0], [795.3333333333334, 0.0], [795.3333333333334, 0.0], [769.0, 0.0], [769.0, 0.0], [742.6666666666666, 0.0], [742.6666666666666, 0.0], [716.3333333333334, 0.0], [716.3333333333334, 0.0]]}, \"width\": 576.0});\n",
       "      });\n",
       "    });\n",
       "}else{\n",
       "    // require.js not available: dynamically load d3 & mpld3\n",
       "    mpld3_load_lib(\"https://mpld3.github.io/js/d3.v3.min.js\", function(){\n",
       "         mpld3_load_lib(\"https://mpld3.github.io/js/mpld3.v0.2.js\", function(){\n",
       "                 \n",
       "                 mpld3.draw_figure(\"fig_el1351346021988405993314764\", {\"id\": \"el135134602198840\", \"axes\": [{\"axesbgalpha\": null, \"lines\": [], \"xscale\": \"linear\", \"ylim\": [0.0, 9.45], \"xdomain\": [650.5, 1519.5], \"sharex\": [], \"bbox\": [0.125, 0.125, 0.775, 0.755], \"texts\": [], \"axesbg\": \"#EEEEEE\", \"axes\": [{\"scale\": \"linear\", \"grid\": {\"gridOn\": true, \"dasharray\": \"10,0\", \"color\": \"#FFFFFF\", \"alpha\": 1.0}, \"position\": \"bottom\", \"tickformat\": null, \"fontsize\": 10.0, \"nticks\": 11, \"tickvalues\": null}, {\"scale\": \"linear\", \"grid\": {\"gridOn\": true, \"dasharray\": \"10,0\", \"color\": \"#FFFFFF\", \"alpha\": 1.0}, \"position\": \"left\", \"tickformat\": null, \"fontsize\": 10.0, \"nticks\": 6, \"tickvalues\": null}], \"zoomable\": true, \"yscale\": \"linear\", \"sharey\": [], \"collections\": [], \"xlim\": [650.5, 1519.5], \"ydomain\": [0.0, 9.45], \"id\": \"el135134602199512\", \"paths\": [{\"xindex\": 0, \"data\": \"data01\", \"pathcodes\": [\"M\", \"L\", \"L\", \"L\", \"L\", \"L\", \"L\", \"L\", \"L\", \"L\", \"L\", \"L\", \"L\", \"L\", \"L\", \"L\", \"L\", \"L\", \"L\", \"L\", \"L\", \"L\", \"L\", \"L\", \"L\", \"L\", \"L\", \"L\", \"L\", \"L\", \"L\", \"L\", \"L\", \"L\", \"L\", \"L\", \"L\", \"L\", \"L\", \"L\", \"L\", \"L\", \"L\", \"L\", \"L\", \"L\", \"L\", \"L\", \"L\", \"L\", \"L\", \"L\", \"L\", \"L\", \"L\", \"L\", \"L\", \"L\", \"L\", \"L\", \"L\", \"L\", \"L\", \"L\", \"L\", \"L\", \"L\", \"L\", \"L\", \"L\", \"L\", \"L\", \"L\", \"L\", \"L\", \"L\", \"L\", \"L\", \"L\", \"L\", \"L\", \"L\", \"L\", \"L\", \"L\", \"L\", \"L\", \"L\", \"L\", \"L\", \"L\", \"L\", \"L\", \"L\", \"L\", \"L\", \"L\", \"L\", \"L\", \"L\", \"L\", \"L\", \"L\", \"L\", \"L\", \"L\", \"L\", \"L\", \"L\", \"L\", \"L\", \"L\", \"L\", \"L\", \"L\", \"L\", \"L\", \"L\", \"L\", \"L\", \"Z\"], \"coordinates\": \"data\", \"edgewidth\": 1.0, \"edgecolor\": \"#000000\", \"zorder\": 1, \"id\": \"el135134604922736\", \"alpha\": 0.5, \"facecolor\": \"#0000FF\", \"yindex\": 1, \"dasharray\": \"10,0\"}], \"markers\": [], \"images\": []}], \"plugins\": [{\"type\": \"reset\"}, {\"button\": true, \"type\": \"zoom\", \"enabled\": false}, {\"button\": true, \"type\": \"boxzoom\", \"enabled\": false}], \"height\": 432.0, \"data\": {\"data01\": [[690.0, 0.0], [690.0, 1.0], [716.3333333333334, 1.0], [716.3333333333334, 0.0], [742.6666666666666, 0.0], [742.6666666666666, 1.0], [769.0, 1.0], [769.0, 0.0], [795.3333333333334, 0.0], [795.3333333333334, 0.0], [821.6666666666666, 0.0], [821.6666666666666, 0.0], [848.0, 0.0], [848.0, 1.0], [874.3333333333333, 1.0], [874.3333333333333, 1.0], [900.6666666666666, 1.0], [900.6666666666666, 0.0], [927.0, 0.0], [927.0, 1.0], [953.3333333333333, 1.0], [953.3333333333333, 1.0], [979.6666666666666, 1.0], [979.6666666666666, 0.0], [1006.0, 0.0], [1006.0, 1.0], [1032.3333333333333, 1.0], [1032.3333333333333, 0.0], [1058.6666666666665, 0.0], [1058.6666666666665, 2.0], [1085.0, 2.0], [1085.0, 3.0], [1111.3333333333333, 3.0], [1111.3333333333333, 1.0], [1137.6666666666665, 1.0], [1137.6666666666665, 2.0], [1164.0, 2.0], [1164.0, 1.0], [1190.3333333333333, 1.0], [1190.3333333333333, 2.0], [1216.6666666666665, 2.0], [1216.6666666666665, 7.0], [1243.0, 7.0], [1243.0, 3.0], [1269.3333333333333, 3.0], [1269.3333333333333, 1.0], [1295.6666666666665, 1.0], [1295.6666666666665, 2.0], [1322.0, 2.0], [1322.0, 0.0], [1348.3333333333333, 0.0], [1348.3333333333333, 0.0], [1374.6666666666665, 0.0], [1374.6666666666665, 0.0], [1401.0, 0.0], [1401.0, 2.0], [1427.3333333333333, 2.0], [1427.3333333333333, 9.0], [1453.6666666666665, 9.0], [1453.6666666666665, 8.0], [1480.0, 8.0], [1480.0, 0.0], [1453.6666666666665, 0.0], [1453.6666666666665, 0.0], [1427.3333333333333, 0.0], [1427.3333333333333, 0.0], [1401.0, 0.0], [1401.0, 0.0], [1374.6666666666665, 0.0], [1374.6666666666665, 0.0], [1348.3333333333333, 0.0], [1348.3333333333333, 0.0], [1322.0, 0.0], [1322.0, 0.0], [1295.6666666666665, 0.0], [1295.6666666666665, 0.0], [1269.3333333333333, 0.0], [1269.3333333333333, 0.0], [1243.0, 0.0], [1243.0, 0.0], [1216.6666666666665, 0.0], [1216.6666666666665, 0.0], [1190.3333333333333, 0.0], [1190.3333333333333, 0.0], [1164.0, 0.0], [1164.0, 0.0], [1137.6666666666665, 0.0], [1137.6666666666665, 0.0], [1111.3333333333333, 0.0], [1111.3333333333333, 0.0], [1085.0, 0.0], [1085.0, 0.0], [1058.6666666666665, 0.0], [1058.6666666666665, 0.0], [1032.3333333333333, 0.0], [1032.3333333333333, 0.0], [1006.0, 0.0], [1006.0, 0.0], [979.6666666666666, 0.0], [979.6666666666666, 0.0], [953.3333333333333, 0.0], [953.3333333333333, 0.0], [927.0, 0.0], [927.0, 0.0], [900.6666666666666, 0.0], [900.6666666666666, 0.0], [874.3333333333333, 0.0], [874.3333333333333, 0.0], [848.0, 0.0], [848.0, 0.0], [821.6666666666666, 0.0], [821.6666666666666, 0.0], [795.3333333333334, 0.0], [795.3333333333334, 0.0], [769.0, 0.0], [769.0, 0.0], [742.6666666666666, 0.0], [742.6666666666666, 0.0], [716.3333333333334, 0.0], [716.3333333333334, 0.0]]}, \"width\": 576.0});\n",
       "            })\n",
       "         });\n",
       "}\n",
       "</script>"
      ],
      "text/plain": [
       "<matplotlib.figure.Figure at 0x1124ffb38>"
      ]
     },
     "metadata": {},
     "output_type": "display_data"
    },
    {
     "name": "stderr",
     "output_type": "stream",
     "text": [
      "/Users/daniel/miniconda3/lib/python3.5/json/encoder.py:198: DeprecationWarning: Interpreting naive datetime as local 2017-05-02 17:01:57.638889. Please add timezone info to timestamps.\n",
      "  chunks = self.iterencode(o, _one_shot=True)\n"
     ]
    }
   ],
   "source": [
    "# Histogram with modified axes/grid\n",
    "fig = plt.figure(figsize=(8,6))\n",
    "\n",
    "ax = fig.add_subplot(111, facecolor='#EEEEEE')\n",
    "ax.grid(color='white', linestyle='solid')\n",
    "\n",
    "\n",
    "ax.hist(list(studentTotals.values()), 30, histtype='stepfilled', edgecolor='k', lw=1, fc='blue', alpha=0.5);\n",
    "fig"
   ]
  },
  {
   "cell_type": "markdown",
   "metadata": {},
   "source": [
    "Nothing better than the classic histogram to get a quick overview of the class. The above figure shows a histogram of the final scores of students. Although very basic, its still useful for getting an intuition of where the break between an 'A' and an 'AB' could lie!\n",
    "\n",
    "But this isn't enough! So we have a more detailed overview below"
   ]
  },
  {
   "cell_type": "code",
   "execution_count": 24,
   "metadata": {
    "collapsed": false,
    "scrolled": false
   },
   "outputs": [
    {
     "name": "stderr",
     "output_type": "stream",
     "text": [
      "/Users/daniel/miniconda3/lib/python3.5/site-packages/jupyter_client/jsonutil.py:67: DeprecationWarning: Interpreting naive datetime as local 2017-05-02 17:04:02.196406. Please add timezone info to timestamps.\n",
      "  new_obj[k] = extract_dates(v)\n"
     ]
    },
    {
     "ename": "TypeError",
     "evalue": "float() argument must be a string or a number, not 'dict_values'",
     "output_type": "error",
     "traceback": [
      "\u001b[0;31m---------------------------------------------------------------------------\u001b[0m",
      "\u001b[0;31mTypeError\u001b[0m                                 Traceback (most recent call last)",
      "\u001b[0;32m<ipython-input-24-23efd3d45e95>\u001b[0m in \u001b[0;36m<module>\u001b[0;34m()\u001b[0m\n\u001b[1;32m     12\u001b[0m                        \u001b[0malpha\u001b[0m\u001b[0;34m=\u001b[0m\u001b[0;36m0.5\u001b[0m\u001b[0;34m,\u001b[0m\u001b[0;34m\u001b[0m\u001b[0m\n\u001b[1;32m     13\u001b[0m                        \u001b[0medgecolor\u001b[0m\u001b[0;34m=\u001b[0m\u001b[0;34m'k'\u001b[0m\u001b[0;34m,\u001b[0m\u001b[0;34m\u001b[0m\u001b[0m\n\u001b[0;32m---> 14\u001b[0;31m                        cmap=colormap_name)\n\u001b[0m\u001b[1;32m     15\u001b[0m \u001b[0max\u001b[0m\u001b[0;34m[\u001b[0m\u001b[0;36m1\u001b[0m\u001b[0;34m]\u001b[0m\u001b[0;34m.\u001b[0m\u001b[0mset_ylim\u001b[0m\u001b[0;34m(\u001b[0m\u001b[0;36m0\u001b[0m\u001b[0;34m,\u001b[0m \u001b[0;36m1.2\u001b[0m\u001b[0;34m*\u001b[0m\u001b[0mmax\u001b[0m\u001b[0;34m(\u001b[0m\u001b[0mstudentAvgPostLen\u001b[0m\u001b[0;34m.\u001b[0m\u001b[0mvalues\u001b[0m\u001b[0;34m(\u001b[0m\u001b[0;34m)\u001b[0m\u001b[0;34m)\u001b[0m\u001b[0;34m)\u001b[0m\u001b[0;34m\u001b[0m\u001b[0m\n\u001b[1;32m     16\u001b[0m \u001b[0;31m# ax[1].plot([0, 0], [min(studentAvgPostLen.values()) - 50, max(studentAvgPostLen.values()) + 50], lw=2, c='b'),\u001b[0m\u001b[0;34m\u001b[0m\u001b[0;34m\u001b[0m\u001b[0m\n",
      "\u001b[0;32m/Users/daniel/miniconda3/lib/python3.5/site-packages/matplotlib/__init__.py\u001b[0m in \u001b[0;36minner\u001b[0;34m(ax, *args, **kwargs)\u001b[0m\n\u001b[1;32m   1890\u001b[0m                     warnings.warn(msg % (label_namer, func.__name__),\n\u001b[1;32m   1891\u001b[0m                                   RuntimeWarning, stacklevel=2)\n\u001b[0;32m-> 1892\u001b[0;31m             \u001b[0;32mreturn\u001b[0m \u001b[0mfunc\u001b[0m\u001b[0;34m(\u001b[0m\u001b[0max\u001b[0m\u001b[0;34m,\u001b[0m \u001b[0;34m*\u001b[0m\u001b[0margs\u001b[0m\u001b[0;34m,\u001b[0m \u001b[0;34m**\u001b[0m\u001b[0mkwargs\u001b[0m\u001b[0;34m)\u001b[0m\u001b[0;34m\u001b[0m\u001b[0m\n\u001b[0m\u001b[1;32m   1893\u001b[0m         \u001b[0mpre_doc\u001b[0m \u001b[0;34m=\u001b[0m \u001b[0minner\u001b[0m\u001b[0;34m.\u001b[0m\u001b[0m__doc__\u001b[0m\u001b[0;34m\u001b[0m\u001b[0m\n\u001b[1;32m   1894\u001b[0m         \u001b[0;32mif\u001b[0m \u001b[0mpre_doc\u001b[0m \u001b[0;32mis\u001b[0m \u001b[0;32mNone\u001b[0m\u001b[0;34m:\u001b[0m\u001b[0;34m\u001b[0m\u001b[0m\n",
      "\u001b[0;32m/Users/daniel/miniconda3/lib/python3.5/site-packages/matplotlib/axes/_axes.py\u001b[0m in \u001b[0;36mscatter\u001b[0;34m(self, x, y, s, c, marker, cmap, norm, vmin, vmax, alpha, linewidths, verts, edgecolors, **kwargs)\u001b[0m\n\u001b[1;32m   3974\u001b[0m         \u001b[0;32melse\u001b[0m\u001b[0;34m:\u001b[0m\u001b[0;34m\u001b[0m\u001b[0m\n\u001b[1;32m   3975\u001b[0m             \u001b[0;32mtry\u001b[0m\u001b[0;34m:\u001b[0m\u001b[0;34m\u001b[0m\u001b[0m\n\u001b[0;32m-> 3976\u001b[0;31m                 \u001b[0mc_array\u001b[0m \u001b[0;34m=\u001b[0m \u001b[0mnp\u001b[0m\u001b[0;34m.\u001b[0m\u001b[0masanyarray\u001b[0m\u001b[0;34m(\u001b[0m\u001b[0mc\u001b[0m\u001b[0;34m,\u001b[0m \u001b[0mdtype\u001b[0m\u001b[0;34m=\u001b[0m\u001b[0mfloat\u001b[0m\u001b[0;34m)\u001b[0m\u001b[0;34m\u001b[0m\u001b[0m\n\u001b[0m\u001b[1;32m   3977\u001b[0m                 \u001b[0;32mif\u001b[0m \u001b[0mc_array\u001b[0m\u001b[0;34m.\u001b[0m\u001b[0msize\u001b[0m \u001b[0;34m==\u001b[0m \u001b[0mx\u001b[0m\u001b[0;34m.\u001b[0m\u001b[0msize\u001b[0m\u001b[0;34m:\u001b[0m\u001b[0;34m\u001b[0m\u001b[0m\n\u001b[1;32m   3978\u001b[0m                     \u001b[0mc\u001b[0m \u001b[0;34m=\u001b[0m \u001b[0mnp\u001b[0m\u001b[0;34m.\u001b[0m\u001b[0mma\u001b[0m\u001b[0;34m.\u001b[0m\u001b[0mravel\u001b[0m\u001b[0;34m(\u001b[0m\u001b[0mc_array\u001b[0m\u001b[0;34m)\u001b[0m\u001b[0;34m\u001b[0m\u001b[0m\n",
      "\u001b[0;32m/Users/daniel/miniconda3/lib/python3.5/site-packages/numpy/core/numeric.py\u001b[0m in \u001b[0;36masanyarray\u001b[0;34m(a, dtype, order)\u001b[0m\n\u001b[1;32m    581\u001b[0m \u001b[0;34m\u001b[0m\u001b[0m\n\u001b[1;32m    582\u001b[0m     \"\"\"\n\u001b[0;32m--> 583\u001b[0;31m     \u001b[0;32mreturn\u001b[0m \u001b[0marray\u001b[0m\u001b[0;34m(\u001b[0m\u001b[0ma\u001b[0m\u001b[0;34m,\u001b[0m \u001b[0mdtype\u001b[0m\u001b[0;34m,\u001b[0m \u001b[0mcopy\u001b[0m\u001b[0;34m=\u001b[0m\u001b[0;32mFalse\u001b[0m\u001b[0;34m,\u001b[0m \u001b[0morder\u001b[0m\u001b[0;34m=\u001b[0m\u001b[0morder\u001b[0m\u001b[0;34m,\u001b[0m \u001b[0msubok\u001b[0m\u001b[0;34m=\u001b[0m\u001b[0;32mTrue\u001b[0m\u001b[0;34m)\u001b[0m\u001b[0;34m\u001b[0m\u001b[0m\n\u001b[0m\u001b[1;32m    584\u001b[0m \u001b[0;34m\u001b[0m\u001b[0m\n\u001b[1;32m    585\u001b[0m \u001b[0;34m\u001b[0m\u001b[0m\n",
      "\u001b[0;31mTypeError\u001b[0m: float() argument must be a string or a number, not 'dict_values'"
     ]
    },
    {
     "data": {
      "image/png": "[encoded data removed]",
      "text/html": [
       "\n",
       "\n",
       "<style>\n",
       "\n",
       "</style>\n",
       "\n",
       "<div id=\"fig_el1351346050507204929766799\"></div>\n",
       "<script>\n",
       "function mpld3_load_lib(url, callback){\n",
       "  var s = document.createElement('script');\n",
       "  s.src = url;\n",
       "  s.async = true;\n",
       "  s.onreadystatechange = s.onload = callback;\n",
       "  s.onerror = function(){console.warn(\"failed to load library \" + url);};\n",
       "  document.getElementsByTagName(\"head\")[0].appendChild(s);\n",
       "}\n",
       "\n",
       "if(typeof(mpld3) !== \"undefined\" && mpld3._mpld3IsLoaded){\n",
       "   // already loaded: just create the figure\n",
       "   !function(mpld3){\n",
       "       \n",
       "       mpld3.draw_figure(\"fig_el1351346050507204929766799\", {\"id\": \"el135134605050720\", \"axes\": [{\"axesbgalpha\": null, \"lines\": [], \"xscale\": \"linear\", \"ylim\": [0.0, 1.0], \"xdomain\": [0.0, 1.0], \"sharex\": [], \"bbox\": [0.125, 0.5368181818181819, 0.775, 0.34318181818181814], \"texts\": [], \"axesbg\": \"#FFFFFF\", \"axes\": [{\"scale\": \"linear\", \"grid\": {\"gridOn\": false}, \"position\": \"bottom\", \"tickformat\": null, \"fontsize\": 10.0, \"nticks\": 6, \"tickvalues\": null}, {\"scale\": \"linear\", \"grid\": {\"gridOn\": false}, \"position\": \"left\", \"tickformat\": null, \"fontsize\": 10.0, \"nticks\": 6, \"tickvalues\": null}], \"zoomable\": true, \"yscale\": \"linear\", \"sharey\": [], \"collections\": [], \"xlim\": [0.0, 1.0], \"ydomain\": [0.0, 1.0], \"id\": \"el135134605090056\", \"paths\": [], \"markers\": [], \"images\": []}, {\"axesbgalpha\": null, \"lines\": [], \"xscale\": \"linear\", \"ylim\": [0.0, 1.0], \"xdomain\": [0.0, 1.0], \"sharex\": [], \"bbox\": [0.125, 0.1250000000000001, 0.775, 0.34318181818181814], \"texts\": [], \"axesbg\": \"#FFFFFF\", \"axes\": [{\"scale\": \"linear\", \"grid\": {\"gridOn\": false}, \"position\": \"bottom\", \"tickformat\": null, \"fontsize\": 10.0, \"nticks\": 6, \"tickvalues\": null}, {\"scale\": \"linear\", \"grid\": {\"gridOn\": false}, \"position\": \"left\", \"tickformat\": null, \"fontsize\": 10.0, \"nticks\": 6, \"tickvalues\": null}], \"zoomable\": true, \"yscale\": \"linear\", \"sharey\": [], \"collections\": [], \"xlim\": [0.0, 1.0], \"ydomain\": [0.0, 1.0], \"id\": \"el135134609993808\", \"paths\": [], \"markers\": [], \"images\": []}], \"plugins\": [{\"type\": \"reset\"}, {\"button\": true, \"type\": \"zoom\", \"enabled\": false}, {\"button\": true, \"type\": \"boxzoom\", \"enabled\": false}], \"height\": 576.0, \"data\": {}, \"width\": 864.0});\n",
       "   }(mpld3);\n",
       "}else if(typeof define === \"function\" && define.amd){\n",
       "   // require.js is available: use it to load d3/mpld3\n",
       "   require.config({paths: {d3: \"https://mpld3.github.io/js/d3.v3.min\"}});\n",
       "   require([\"d3\"], function(d3){\n",
       "      window.d3 = d3;\n",
       "      mpld3_load_lib(\"https://mpld3.github.io/js/mpld3.v0.2.js\", function(){\n",
       "         \n",
       "         mpld3.draw_figure(\"fig_el1351346050507204929766799\", {\"id\": \"el135134605050720\", \"axes\": [{\"axesbgalpha\": null, \"lines\": [], \"xscale\": \"linear\", \"ylim\": [0.0, 1.0], \"xdomain\": [0.0, 1.0], \"sharex\": [], \"bbox\": [0.125, 0.5368181818181819, 0.775, 0.34318181818181814], \"texts\": [], \"axesbg\": \"#FFFFFF\", \"axes\": [{\"scale\": \"linear\", \"grid\": {\"gridOn\": false}, \"position\": \"bottom\", \"tickformat\": null, \"fontsize\": 10.0, \"nticks\": 6, \"tickvalues\": null}, {\"scale\": \"linear\", \"grid\": {\"gridOn\": false}, \"position\": \"left\", \"tickformat\": null, \"fontsize\": 10.0, \"nticks\": 6, \"tickvalues\": null}], \"zoomable\": true, \"yscale\": \"linear\", \"sharey\": [], \"collections\": [], \"xlim\": [0.0, 1.0], \"ydomain\": [0.0, 1.0], \"id\": \"el135134605090056\", \"paths\": [], \"markers\": [], \"images\": []}, {\"axesbgalpha\": null, \"lines\": [], \"xscale\": \"linear\", \"ylim\": [0.0, 1.0], \"xdomain\": [0.0, 1.0], \"sharex\": [], \"bbox\": [0.125, 0.1250000000000001, 0.775, 0.34318181818181814], \"texts\": [], \"axesbg\": \"#FFFFFF\", \"axes\": [{\"scale\": \"linear\", \"grid\": {\"gridOn\": false}, \"position\": \"bottom\", \"tickformat\": null, \"fontsize\": 10.0, \"nticks\": 6, \"tickvalues\": null}, {\"scale\": \"linear\", \"grid\": {\"gridOn\": false}, \"position\": \"left\", \"tickformat\": null, \"fontsize\": 10.0, \"nticks\": 6, \"tickvalues\": null}], \"zoomable\": true, \"yscale\": \"linear\", \"sharey\": [], \"collections\": [], \"xlim\": [0.0, 1.0], \"ydomain\": [0.0, 1.0], \"id\": \"el135134609993808\", \"paths\": [], \"markers\": [], \"images\": []}], \"plugins\": [{\"type\": \"reset\"}, {\"button\": true, \"type\": \"zoom\", \"enabled\": false}, {\"button\": true, \"type\": \"boxzoom\", \"enabled\": false}], \"height\": 576.0, \"data\": {}, \"width\": 864.0});\n",
       "      });\n",
       "    });\n",
       "}else{\n",
       "    // require.js not available: dynamically load d3 & mpld3\n",
       "    mpld3_load_lib(\"https://mpld3.github.io/js/d3.v3.min.js\", function(){\n",
       "         mpld3_load_lib(\"https://mpld3.github.io/js/mpld3.v0.2.js\", function(){\n",
       "                 \n",
       "                 mpld3.draw_figure(\"fig_el1351346050507204929766799\", {\"id\": \"el135134605050720\", \"axes\": [{\"axesbgalpha\": null, \"lines\": [], \"xscale\": \"linear\", \"ylim\": [0.0, 1.0], \"xdomain\": [0.0, 1.0], \"sharex\": [], \"bbox\": [0.125, 0.5368181818181819, 0.775, 0.34318181818181814], \"texts\": [], \"axesbg\": \"#FFFFFF\", \"axes\": [{\"scale\": \"linear\", \"grid\": {\"gridOn\": false}, \"position\": \"bottom\", \"tickformat\": null, \"fontsize\": 10.0, \"nticks\": 6, \"tickvalues\": null}, {\"scale\": \"linear\", \"grid\": {\"gridOn\": false}, \"position\": \"left\", \"tickformat\": null, \"fontsize\": 10.0, \"nticks\": 6, \"tickvalues\": null}], \"zoomable\": true, \"yscale\": \"linear\", \"sharey\": [], \"collections\": [], \"xlim\": [0.0, 1.0], \"ydomain\": [0.0, 1.0], \"id\": \"el135134605090056\", \"paths\": [], \"markers\": [], \"images\": []}, {\"axesbgalpha\": null, \"lines\": [], \"xscale\": \"linear\", \"ylim\": [0.0, 1.0], \"xdomain\": [0.0, 1.0], \"sharex\": [], \"bbox\": [0.125, 0.1250000000000001, 0.775, 0.34318181818181814], \"texts\": [], \"axesbg\": \"#FFFFFF\", \"axes\": [{\"scale\": \"linear\", \"grid\": {\"gridOn\": false}, \"position\": \"bottom\", \"tickformat\": null, \"fontsize\": 10.0, \"nticks\": 6, \"tickvalues\": null}, {\"scale\": \"linear\", \"grid\": {\"gridOn\": false}, \"position\": \"left\", \"tickformat\": null, \"fontsize\": 10.0, \"nticks\": 6, \"tickvalues\": null}], \"zoomable\": true, \"yscale\": \"linear\", \"sharey\": [], \"collections\": [], \"xlim\": [0.0, 1.0], \"ydomain\": [0.0, 1.0], \"id\": \"el135134609993808\", \"paths\": [], \"markers\": [], \"images\": []}], \"plugins\": [{\"type\": \"reset\"}, {\"button\": true, \"type\": \"zoom\", \"enabled\": false}, {\"button\": true, \"type\": \"boxzoom\", \"enabled\": false}], \"height\": 576.0, \"data\": {}, \"width\": 864.0});\n",
       "            })\n",
       "         });\n",
       "}\n",
       "</script>"
      ],
      "text/plain": [
       "<matplotlib.figure.Figure at 0x1127b7f60>"
      ]
     },
     "metadata": {},
     "output_type": "display_data"
    },
    {
     "name": "stderr",
     "output_type": "stream",
     "text": [
      "/Users/daniel/miniconda3/lib/python3.5/json/encoder.py:198: DeprecationWarning: Interpreting naive datetime as local 2017-05-02 17:04:02.198529. Please add timezone info to timestamps.\n",
      "  chunks = self.iterencode(o, _one_shot=True)\n"
     ]
    }
   ],
   "source": [
    "fig, ax = plt.subplots(2, figsize=(12, 8))\n",
    "# colors = cm.winter(np.linspace(0, 1, len(studentScores.values())))\n",
    "\n",
    "#noBins = int((max(studentTotals.values()) - min(studentTotals.values()))/20)\n",
    "#plt.hist(studentTotals.values(), bins=noBins, lw=3, edgecolor='k', color= 'b')\n",
    "\n",
    "colormap_name = 'cool_r'\n",
    "points = ax[1].scatter(studentTotals.values(), \n",
    "                       studentAvgPostLen.values(),\n",
    "                       c=studentTotals.values(), \n",
    "                       s=[a/3 for a in studentAvgPostLen.values()], \n",
    "                       alpha=0.5,\n",
    "                       edgecolor='k',\n",
    "                       cmap=colormap_name)\n",
    "ax[1].set_ylim(0, 1.2*max(studentAvgPostLen.values()))\n",
    "# ax[1].plot([0, 0], [min(studentAvgPostLen.values()) - 50, max(studentAvgPostLen.values()) + 50], lw=2, c='b'),\n",
    "# ax[1].annotate('Deadline', xycoords='data', xy=(0, 500), xytext=(3, max(studentAvgPostLen.values()) + 1.5),\n",
    "#         arrowprops=dict(facecolor='black', shrink=0.05),\n",
    "#         )\n",
    "\n",
    "x = np.linspace(1, noAss, noAss)\n",
    "# y = [np.cumsum(scores) for scores in studentScores.values()]\n",
    "y = studentPosts.values()\n",
    "plot_data = np.array([[x, np.array(s)]\n",
    "                for s in y])\n",
    "lines = ax[0].plot(x, 0 * x, '-w', alpha = 1, lw=4, zorder=2)\n",
    "colors = plt.cm.ScalarMappable(cmap=colormap_name).to_rgba(studentTotals.values())\n",
    "for scores, c in zip(y, colors):\n",
    "    ax[0].plot(x, scores, c=c, lw=2, alpha=0.3, zorder=1)\n",
    "ax[0].set_ylim(0, max([max(t) for t in y]))\n",
    "\n",
    "linedata = plot_data.transpose(0, 2, 1).tolist()\n",
    "plugins.connect(fig, LinkedView(points, lines[0], linedata))\n",
    "#plugins.connect(fig, plugins.LinkedBrush(points))\n",
    "fig"
   ]
  },
  {
   "cell_type": "markdown",
   "metadata": {
    "collapsed": true
   },
   "source": [
    "### Assignments Overview\n",
    "How did each othe assinments fair this semester? The below section gives provides information to gauge the \"Usefullness\" of each assignment while considering the likes and dislikes of the students"
   ]
  },
  {
   "cell_type": "code",
   "execution_count": null,
   "metadata": {
    "collapsed": true
   },
   "outputs": [],
   "source": []
  }
 ],
 "metadata": {
  "kernelspec": {
   "display_name": "IPython (Python 3)",
   "language": "python",
   "name": "python3"
  },
  "language_info": {
   "codemirror_mode": {
    "name": "ipython",
    "version": 3
   },
   "file_extension": ".py",
   "mimetype": "text/x-python",
   "name": "python",
   "nbconvert_exporter": "python",
   "pygments_lexer": "ipython3",
   "version": "3.5.3"
  }
 },
 "nbformat": 4,
 "nbformat_minor": 2
}
